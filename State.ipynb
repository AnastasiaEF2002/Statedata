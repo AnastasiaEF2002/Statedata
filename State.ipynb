{
 "cells": [
  {
   "cell_type": "code",
   "execution_count": 2,
   "id": "6c372d03",
   "metadata": {},
   "outputs": [
    {
     "name": "stdout",
     "output_type": "stream",
     "text": [
      "Defaulting to user installation because normal site-packages is not writeable\n",
      "Requirement already satisfied: bagpy in /home/anastasiaef/.local/lib/python3.6/site-packages (0.5)\n",
      "Requirement already satisfied: pycryptodomex in /home/anastasiaef/.local/lib/python3.6/site-packages (from bagpy) (3.18.0)\n",
      "Requirement already satisfied: ipython in /home/anastasiaef/.local/lib/python3.6/site-packages (from bagpy) (7.16.3)\n",
      "Requirement already satisfied: numpy in /home/anastasiaef/.local/lib/python3.6/site-packages (from bagpy) (1.19.5)\n",
      "Requirement already satisfied: py3rosmsgs in /home/anastasiaef/.local/lib/python3.6/site-packages (from bagpy) (1.18.2)\n",
      "Requirement already satisfied: pandas in /home/anastasiaef/.local/lib/python3.6/site-packages (from bagpy) (1.1.5)\n",
      "Requirement already satisfied: pytest in /home/anastasiaef/.local/lib/python3.6/site-packages (from bagpy) (7.0.1)\n",
      "Requirement already satisfied: setuptools-scm in /home/anastasiaef/.local/lib/python3.6/site-packages (from bagpy) (6.4.2)\n",
      "Requirement already satisfied: rospkg in /home/anastasiaef/.local/lib/python3.6/site-packages (from bagpy) (1.5.0)\n",
      "Requirement already satisfied: matplotlib in /home/anastasiaef/.local/lib/python3.6/site-packages (from bagpy) (3.3.4)\n",
      "Requirement already satisfied: bitstring in /home/anastasiaef/.local/lib/python3.6/site-packages (from bagpy) (3.1.9)\n",
      "Requirement already satisfied: jinja2<3.1 in /home/anastasiaef/.local/lib/python3.6/site-packages (from bagpy) (3.0.3)\n",
      "Requirement already satisfied: pyyaml in /usr/lib/python3/dist-packages (from bagpy) (3.12)\n",
      "Requirement already satisfied: seaborn>=0.9.0 in /home/anastasiaef/.local/lib/python3.6/site-packages (from bagpy) (0.11.2)\n",
      "Requirement already satisfied: pyserial in /home/anastasiaef/.local/lib/python3.6/site-packages (from bagpy) (3.5)\n",
      "Requirement already satisfied: importlib-resources in /usr/local/lib/python3.6/dist-packages (from bagpy) (5.4.0)\n",
      "Requirement already satisfied: MarkupSafe>=2.0 in /home/anastasiaef/.local/lib/python3.6/site-packages (from jinja2<3.1->bagpy) (2.0.1)\n",
      "Requirement already satisfied: scipy>=1.0 in /home/anastasiaef/.local/lib/python3.6/site-packages (from seaborn>=0.9.0->bagpy) (1.5.4)\n",
      "Requirement already satisfied: pillow>=6.2.0 in /home/anastasiaef/.local/lib/python3.6/site-packages (from matplotlib->bagpy) (8.4.0)\n",
      "Requirement already satisfied: pyparsing!=2.0.4,!=2.1.2,!=2.1.6,>=2.0.3 in /home/anastasiaef/.local/lib/python3.6/site-packages (from matplotlib->bagpy) (3.1.0)\n",
      "Requirement already satisfied: kiwisolver>=1.0.1 in /home/anastasiaef/.local/lib/python3.6/site-packages (from matplotlib->bagpy) (1.3.1)\n",
      "Requirement already satisfied: cycler>=0.10 in /home/anastasiaef/.local/lib/python3.6/site-packages (from matplotlib->bagpy) (0.11.0)\n",
      "Requirement already satisfied: python-dateutil>=2.1 in /home/anastasiaef/.local/lib/python3.6/site-packages (from matplotlib->bagpy) (2.8.2)\n",
      "Requirement already satisfied: pytz>=2017.2 in /usr/lib/python3/dist-packages (from pandas->bagpy) (2018.3)\n",
      "Requirement already satisfied: zipp>=3.1.0 in /usr/local/lib/python3.6/dist-packages (from importlib-resources->bagpy) (3.6.0)\n",
      "Requirement already satisfied: decorator in /usr/lib/python3/dist-packages (from ipython->bagpy) (4.1.2)\n",
      "Requirement already satisfied: pexpect in /usr/lib/python3/dist-packages (from ipython->bagpy) (4.2.1)\n",
      "Requirement already satisfied: traitlets>=4.2 in /usr/lib/python3/dist-packages (from ipython->bagpy) (4.3.2)\n",
      "Requirement already satisfied: backcall in /home/anastasiaef/.local/lib/python3.6/site-packages (from ipython->bagpy) (0.2.0)\n",
      "Requirement already satisfied: pickleshare in /home/anastasiaef/.local/lib/python3.6/site-packages (from ipython->bagpy) (0.7.5)\n",
      "Requirement already satisfied: setuptools>=18.5 in /usr/lib/python3/dist-packages (from ipython->bagpy) (39.0.1)\n",
      "Requirement already satisfied: pygments in /home/anastasiaef/.local/lib/python3.6/site-packages (from ipython->bagpy) (2.14.0)\n",
      "Requirement already satisfied: prompt-toolkit!=3.0.0,!=3.0.1,<3.1.0,>=2.0.0 in /home/anastasiaef/.local/lib/python3.6/site-packages (from ipython->bagpy) (3.0.36)\n",
      "Requirement already satisfied: jedi<=0.17.2,>=0.10 in /home/anastasiaef/.local/lib/python3.6/site-packages (from ipython->bagpy) (0.17.2)\n",
      "Requirement already satisfied: gnupg in /home/anastasiaef/.local/lib/python3.6/site-packages (from py3rosmsgs->bagpy) (2.3.1)\n",
      "Requirement already satisfied: importlib-metadata>=0.12 in /usr/local/lib/python3.6/dist-packages (from pytest->bagpy) (4.8.3)\n",
      "Requirement already satisfied: packaging in /home/anastasiaef/.local/lib/python3.6/site-packages (from pytest->bagpy) (21.3)\n",
      "Requirement already satisfied: attrs>=19.2.0 in /home/anastasiaef/.local/lib/python3.6/site-packages (from pytest->bagpy) (22.2.0)\n",
      "Requirement already satisfied: py>=1.8.2 in /home/anastasiaef/.local/lib/python3.6/site-packages (from pytest->bagpy) (1.11.0)\n",
      "Requirement already satisfied: pluggy<2.0,>=0.12 in /home/anastasiaef/.local/lib/python3.6/site-packages (from pytest->bagpy) (1.0.0)\n",
      "Requirement already satisfied: iniconfig in /home/anastasiaef/.local/lib/python3.6/site-packages (from pytest->bagpy) (1.1.1)\n",
      "Requirement already satisfied: tomli>=1.0.0 in /home/anastasiaef/.local/lib/python3.6/site-packages (from pytest->bagpy) (1.2.3)\n",
      "Requirement already satisfied: catkin-pkg in /home/anastasiaef/.local/lib/python3.6/site-packages (from rospkg->bagpy) (0.5.2)\n",
      "Requirement already satisfied: typing-extensions>=3.6.4 in /usr/local/lib/python3.6/dist-packages (from importlib-metadata>=0.12->pytest->bagpy) (4.1.1)\n",
      "Requirement already satisfied: parso<0.8.0,>=0.7.0 in /home/anastasiaef/.local/lib/python3.6/site-packages (from jedi<=0.17.2,>=0.10->ipython->bagpy) (0.7.1)\n",
      "Requirement already satisfied: wcwidth in /home/anastasiaef/.local/lib/python3.6/site-packages (from prompt-toolkit!=3.0.0,!=3.0.1,<3.1.0,>=2.0.0->ipython->bagpy) (0.2.6)\n",
      "Requirement already satisfied: six>=1.5 in /usr/lib/python3/dist-packages (from python-dateutil>=2.1->matplotlib->bagpy) (1.11.0)\n",
      "Requirement already satisfied: docutils in /home/anastasiaef/.local/lib/python3.6/site-packages (from catkin-pkg->rospkg->bagpy) (0.18.1)\n",
      "Requirement already satisfied: psutil>=1.2.1 in /home/anastasiaef/.local/lib/python3.6/site-packages (from gnupg->py3rosmsgs->bagpy) (5.9.5)\n",
      "Note: you may need to restart the kernel to use updated packages.\n"
     ]
    }
   ],
   "source": [
    "pip install bagpy"
   ]
  },
  {
   "cell_type": "code",
   "execution_count": 3,
   "id": "9a9c414c",
   "metadata": {},
   "outputs": [
    {
     "name": "stdout",
     "output_type": "stream",
     "text": [
      "Defaulting to user installation because normal site-packages is not writeable\n",
      "Requirement already satisfied: lz4 in /home/anastasiaef/.local/lib/python3.6/site-packages (3.1.10)\n",
      "Note: you may need to restart the kernel to use updated packages.\n"
     ]
    }
   ],
   "source": [
    "pip install lz4"
   ]
  },
  {
   "cell_type": "code",
   "execution_count": 4,
   "id": "4b8899ea",
   "metadata": {},
   "outputs": [
    {
     "name": "stderr",
     "output_type": "stream",
     "text": [
      "Failed to load Python extension for LZ4 support. LZ4 compression will not be available.\n"
     ]
    },
    {
     "name": "stdout",
     "output_type": "stream",
     "text": [
      "Python older than 3.7 detected. \n",
      "[INFO]  Data folder /home/anastasiaef/Downloads/scene already exists. Not creating.\n",
      "                                                Topics  \\\n",
      "0    /DEBUG/StateTracker2Node/acceleration_processo...   \n",
      "1    /DEBUG/StateTracker2Node/acceleration_processo...   \n",
      "2       /DEBUG/StateTracker2Node/orientation_processor   \n",
      "3                                   /DEBUG/area_border   \n",
      "4                                     /DEBUG/cas_debug   \n",
      "..                                                 ...   \n",
      "211                      /srr/radar_detection_clusters   \n",
      "212                        /srr/radar_detection_points   \n",
      "213                                /srr/radar_polygons   \n",
      "214                                                /tf   \n",
      "215                                         /tf_static   \n",
      "\n",
      "                                 Types  Message Count    Frequency  \n",
      "0         geometry_msgs/Vector3Stamped           9654    59.365680  \n",
      "1         geometry_msgs/Vector3Stamped           9656    59.390057  \n",
      "2         geometry_msgs/Vector3Stamped           9646    59.917773  \n",
      "3         geometry_msgs/PolygonStamped              1          NaN  \n",
      "4            common_msgs/StringStamped          17300  2169.841697  \n",
      "..                                 ...            ...          ...  \n",
      "211             sensor_msgs/PointCloud           2608    19.399214  \n",
      "212             sensor_msgs/PointCloud           3221    20.398575  \n",
      "213  jsk_recognition_msgs/PolygonArray           2608    19.406664  \n",
      "214                 tf2_msgs/TFMessage           9656    59.480175  \n",
      "215                 tf2_msgs/TFMessage             16     0.100000  \n",
      "\n",
      "[216 rows x 4 columns]\n"
     ]
    }
   ],
   "source": [
    "from bagpy import bagreader\n",
    "b = bagreader(\"/home/anastasiaef/Downloads/scene.bag\")\n",
    "\n",
    "print(b.topic_table)"
   ]
  },
  {
   "cell_type": "code",
   "execution_count": 5,
   "id": "49945d2a",
   "metadata": {},
   "outputs": [
    {
     "data": {
      "text/plain": [
       "<bound method NDFrame.head of                     %time  field.header.seq   field.header.stamp  \\\n",
       "0     1687475309246809836           2209146  1687475309243326902   \n",
       "1     1687475309262238808           2209147  1687475309259879112   \n",
       "2     1687475309276065193           2209148  1687475309272850990   \n",
       "3     1687475309294908716           2209149  1687475309292689085   \n",
       "4     1687475309309610537           2209150  1687475309306243896   \n",
       "...                   ...               ...                  ...   \n",
       "9652  1687475470177848668           2218798  1687475470176086902   \n",
       "9653  1687475470194718628           2218799  1687475470192259073   \n",
       "9654  1687475470210406691           2218800  1687475470206497907   \n",
       "9655  1687475470225386771           2218801  1687475470222876071   \n",
       "9656  1687475470243941347           2218802  1687475470240901947   \n",
       "\n",
       "      field.header.frame_id  field.info.header.seq  field.info.header.stamp  \\\n",
       "0                       NaN                      0                        0   \n",
       "1                       NaN                      0                        0   \n",
       "2                       NaN                      0                        0   \n",
       "3                       NaN                      0                        0   \n",
       "4                       NaN                      0                        0   \n",
       "...                     ...                    ...                      ...   \n",
       "9652                    NaN                      0                        0   \n",
       "9653                    NaN                      0                        0   \n",
       "9654                    NaN                      0                        0   \n",
       "9655                    NaN                      0                        0   \n",
       "9656                    NaN                      0                        0   \n",
       "\n",
       "      field.info.header.frame_id  field.info.vehid  field.info.type  \\\n",
       "0                            NaN           1007002              NaN   \n",
       "1                            NaN           1007002              NaN   \n",
       "2                            NaN           1007002              NaN   \n",
       "3                            NaN           1007002              NaN   \n",
       "4                            NaN           1007002              NaN   \n",
       "...                          ...               ...              ...   \n",
       "9652                         NaN           1007002              NaN   \n",
       "9653                         NaN           1007002              NaN   \n",
       "9654                         NaN           1007002              NaN   \n",
       "9655                         NaN           1007002              NaN   \n",
       "9656                         NaN           1007002              NaN   \n",
       "\n",
       "      field.info.msg_ver  ...  field.direction  field.weight  \\\n",
       "0                    NaN  ...                1             0   \n",
       "1                    NaN  ...                1             0   \n",
       "2                    NaN  ...                1             0   \n",
       "3                    NaN  ...                1             0   \n",
       "4                    NaN  ...                1             0   \n",
       "...                  ...  ...              ...           ...   \n",
       "9652                 NaN  ...                1             0   \n",
       "9653                 NaN  ...                1             0   \n",
       "9654                 NaN  ...                1             0   \n",
       "9655                 NaN  ...                1             0   \n",
       "9656                 NaN  ...                1             0   \n",
       "\n",
       "      field.correction.x  field.correction.y  field.correction.z  \\\n",
       "0                    0.0                 0.0                 0.0   \n",
       "1                    0.0                 0.0                 0.0   \n",
       "2                    0.0                 0.0                 0.0   \n",
       "3                    0.0                 0.0                 0.0   \n",
       "4                    0.0                 0.0                 0.0   \n",
       "...                  ...                 ...                 ...   \n",
       "9652                 0.0                 0.0                 0.0   \n",
       "9653                 0.0                 0.0                 0.0   \n",
       "9654                 0.0                 0.0                 0.0   \n",
       "9655                 0.0                 0.0                 0.0   \n",
       "9656                 0.0                 0.0                 0.0   \n",
       "\n",
       "      field.reason.reason  field.reason.point.x  field.reason.point.y  \\\n",
       "0                     NaN                   0.0                   0.0   \n",
       "1                     NaN                   0.0                   0.0   \n",
       "2                     NaN                   0.0                   0.0   \n",
       "3                     NaN                   0.0                   0.0   \n",
       "4                     NaN                   0.0                   0.0   \n",
       "...                   ...                   ...                   ...   \n",
       "9652                  NaN                   0.0                   0.0   \n",
       "9653                  NaN                   0.0                   0.0   \n",
       "9654                  NaN                   0.0                   0.0   \n",
       "9655                  NaN                   0.0                   0.0   \n",
       "9656                  NaN                   0.0                   0.0   \n",
       "\n",
       "      field.reason.point.z  field.reason.state  \n",
       "0                      0.0                 NaN  \n",
       "1                      0.0                 NaN  \n",
       "2                      0.0                 NaN  \n",
       "3                      0.0                 NaN  \n",
       "4                      0.0                 NaN  \n",
       "...                    ...                 ...  \n",
       "9652                   0.0                 NaN  \n",
       "9653                   0.0                 NaN  \n",
       "9654                   0.0                 NaN  \n",
       "9655                   0.0                 NaN  \n",
       "9656                   0.0                 NaN  \n",
       "\n",
       "[9657 rows x 30 columns]>"
      ]
     },
     "execution_count": 5,
     "metadata": {},
     "output_type": "execute_result"
    }
   ],
   "source": [
    "import pandas as pd\n",
    "data = pd.read_csv(\"/home/anastasiaef/Downloads/state.csv\")\n",
    "data.head"
   ]
  },
  {
   "cell_type": "code",
   "execution_count": 6,
   "id": "c32ad82d",
   "metadata": {},
   "outputs": [
    {
     "data": {
      "text/plain": [
       "Index(['%time', 'field.header.seq', 'field.header.stamp',\n",
       "       'field.header.frame_id', 'field.info.header.seq',\n",
       "       'field.info.header.stamp', 'field.info.header.frame_id',\n",
       "       'field.info.vehid', 'field.info.type', 'field.info.msg_ver',\n",
       "       'field.info.comm', 'field.speed', 'field.position.x',\n",
       "       'field.position.y', 'field.position.z', 'field.yaw',\n",
       "       'field.wheel_angle', 'field.quality', 'field.distance', 'field.status',\n",
       "       'field.direction', 'field.weight', 'field.correction.x',\n",
       "       'field.correction.y', 'field.correction.z', 'field.reason.reason',\n",
       "       'field.reason.point.x', 'field.reason.point.y', 'field.reason.point.z',\n",
       "       'field.reason.state'],\n",
       "      dtype='object')"
      ]
     },
     "execution_count": 6,
     "metadata": {},
     "output_type": "execute_result"
    }
   ],
   "source": [
    "data.keys()"
   ]
  },
  {
   "cell_type": "code",
   "execution_count": 14,
   "id": "0bf960ec",
   "metadata": {},
   "outputs": [],
   "source": [
    "i=0\n",
    "j=1\n",
    "stops=0\n",
    "while (j<len(data['field.position.x'])):\n",
    "    if (data['field.position.x'][j]==data['field.position.x'][i]) or (data['field.position.y'][j]==data['field.position.y'][i]) or (data['field.position.z'][j]==data['field.position.z'][i]) or (data['field.speed'][j]==data['field.speed'][i]):\n",
    "        stops+=1\n",
    "    i+=1\n",
    "    j+=1"
   ]
  },
  {
   "cell_type": "code",
   "execution_count": 15,
   "id": "7e3bd464",
   "metadata": {},
   "outputs": [
    {
     "name": "stdout",
     "output_type": "stream",
     "text": [
      "1\n"
     ]
    }
   ],
   "source": [
    "print(stops)"
   ]
  },
  {
   "cell_type": "code",
   "execution_count": null,
   "id": "22e8fc33",
   "metadata": {},
   "outputs": [],
   "source": []
  }
 ],
 "metadata": {
  "kernelspec": {
   "display_name": "Python 3",
   "language": "python",
   "name": "python3"
  },
  "language_info": {
   "codemirror_mode": {
    "name": "ipython",
    "version": 3
   },
   "file_extension": ".py",
   "mimetype": "text/x-python",
   "name": "python",
   "nbconvert_exporter": "python",
   "pygments_lexer": "ipython3",
   "version": "3.6.9"
  }
 },
 "nbformat": 4,
 "nbformat_minor": 5
}
